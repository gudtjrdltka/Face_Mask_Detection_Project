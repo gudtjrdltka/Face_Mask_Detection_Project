{
  "nbformat": 4,
  "nbformat_minor": 0,
  "metadata": {
    "colab": {
      "name": "mask_classifier.ipynb",
      "provenance": []
    },
    "kernelspec": {
      "name": "python3",
      "display_name": "Python 3"
    },
    "accelerator": "GPU"
  },
  "cells": [
    {
      "cell_type": "code",
      "metadata": {
        "id": "c4IGmz4SZITd"
      },
      "source": [
        "# import the necessary packages\n",
        "from tensorflow.keras.preprocessing.image import ImageDataGenerator\n",
        "from tensorflow.keras.applications import MobileNetV2\n",
        "from tensorflow.keras.layers import AveragePooling2D\n",
        "from tensorflow.keras.layers import Dropout\n",
        "from tensorflow.keras.layers import Flatten\n",
        "from tensorflow.keras.layers import Dense\n",
        "from tensorflow.keras.layers import Input\n",
        "from tensorflow.keras.models import Model\n",
        "from tensorflow.keras.optimizers import Adam\n",
        "from tensorflow.keras.applications.mobilenet_v2 import preprocess_input\n",
        "from tensorflow.keras.preprocessing.image import img_to_array\n",
        "from tensorflow.keras.preprocessing.image import load_img\n",
        "from tensorflow.keras.utils import to_categorical\n",
        "from sklearn.preprocessing import LabelBinarizer, OneHotEncoder, MultiLabelBinarizer, LabelEncoder\n",
        "from sklearn.model_selection import train_test_split\n",
        "from sklearn.metrics import classification_report\n",
        "from imutils import paths\n",
        "import matplotlib.pyplot as plt\n",
        "import numpy as np\n",
        "import argparse\n",
        "import os"
      ],
      "execution_count": 1,
      "outputs": []
    },
    {
      "cell_type": "code",
      "metadata": {
        "id": "jyS70ZQHeBhG",
        "colab": {
          "base_uri": "https://localhost:8080/"
        },
        "outputId": "4803bd07-9b40-4238-d38d-4888609947a3"
      },
      "source": [
        "cd drive/My Drive/Mask_detection_Project"
      ],
      "execution_count": 2,
      "outputs": [
        {
          "output_type": "stream",
          "text": [
            "/content/drive/My Drive/Mask_detection_Project\n"
          ],
          "name": "stdout"
        }
      ]
    },
    {
      "cell_type": "code",
      "metadata": {
        "id": "QAD55VqS3-0U"
      },
      "source": [
        "base = os.getcwd()\n",
        "ds_path = os.path.join(base, \"mask_ds\")"
      ],
      "execution_count": 3,
      "outputs": []
    },
    {
      "cell_type": "markdown",
      "metadata": {
        "id": "9sF02b1n4bJv"
      },
      "source": [
        "## 데이터셋 설명:\n",
        "- cor_mask, nomask, incor_mask\n",
        "- 폴더별 1400장 씩 (총 4200 장)\n",
        "- 1400 -> train 896, valid 224, test 280\n",
        "\n",
        "\n",
        "### 데이터 공유링크\n",
        "https://drive.google.com/drive/folders/1QYrzMsNo5oLGO-sMddC3qDUYvVIxJfcf?usp=sharing"
      ]
    },
    {
      "cell_type": "markdown",
      "metadata": {
        "id": "Dnlc3Kdp4lfS"
      },
      "source": [
        "## Mask classifier training (preprocess)\n"
      ]
    },
    {
      "cell_type": "code",
      "metadata": {
        "colab": {
          "base_uri": "https://localhost:8080/"
        },
        "id": "RYZubFq93_b1",
        "outputId": "91703bbf-5aa2-443a-c031-e8cd03284052"
      },
      "source": [
        "# grab the list of images in our dataset directory, then initialize the list of data (i.e., images) and class images\n",
        "print(\"[INFO] loading images...\")\n",
        "imagePaths = list(paths.list_images(ds_path))\n",
        "data = []\n",
        "labels_origin = []\n",
        "\n",
        "# label_candidates = ['nomask','mask_inc', 'mask_cor']\n",
        "# loop over the image paths\n",
        "for imagePath in imagePaths:\n",
        "\t# extract the class label from the filename\n",
        "\tlabel = imagePath.split(os.path.sep)[-2]\n",
        "\n",
        "\t# 다 keras 기반 함수들 load_img -> img_to_arrary -> preprocess_input \n",
        "\timage = load_img(imagePath, target_size=(224, 224)) # resizing\n",
        "\timage = img_to_array(image) # numpy array로 변환 \n",
        "\timage = preprocess_input(image) # compatible 한 전처리를 위해 위의 load_img랑 세트 ,mobilnetv2만을 위한 preprocess class # 픽셀값들이 샘플별로 -1 ~ 1로 스케일링\n",
        "\n",
        "\t# update the data and labels lists, respectively\n",
        "\tdata.append(image)\n",
        "\tlabels_origin.append(label)\n",
        " \n",
        "# convert the data and labels to NumPy arrays\n",
        "data = np.array(data, dtype=\"float32\")\n",
        "labels_origin = np.array(labels_origin)\n",
        "print(labels_origin)"
      ],
      "execution_count": 4,
      "outputs": [
        {
          "output_type": "stream",
          "text": [
            "[INFO] loading images...\n",
            "['cor_mask' 'cor_mask' 'cor_mask' ... 'incor_mask' 'incor_mask'\n",
            " 'incor_mask']\n"
          ],
          "name": "stdout"
        }
      ]
    },
    {
      "cell_type": "code",
      "metadata": {
        "id": "y0V1tndq5KsF"
      },
      "source": [
        "# perform one-hot encoding on the labels\n",
        "lb = LabelEncoder() #sklearn LB vs onehot => int vs float...?\n",
        "labels = lb.fit_transform(labels_origin)\n",
        "labels = to_categorical(labels)\n",
        "\n",
        "# partition the data into training and testing splits using 80% of the data for training and the remaining 20% for testing\n",
        "(trainX, testX, trainY, testY) = train_test_split(data, labels, test_size=0.20, stratify=labels, random_state=42)\n",
        "(trainX, validX, trainY, validY) = train_test_split(trainX, trainY, test_size=0.20, stratify=trainY, random_state=42)\n",
        "\n",
        "# construct the training image generator for data augmentation, 다양한 변조이미지들로도 학습\n",
        "aug = ImageDataGenerator(\n",
        "\trotation_range=20,\n",
        "\tzoom_range=0.15,\n",
        "\twidth_shift_range=0.2,\n",
        "\theight_shift_range=0.2,\n",
        "\tshear_range=0.15,\n",
        "\thorizontal_flip=True,\n",
        "\tfill_mode=\"nearest\")"
      ],
      "execution_count": 5,
      "outputs": []
    },
    {
      "cell_type": "markdown",
      "metadata": {
        "id": "dQIaZGf-CgCW"
      },
      "source": [
        "## Mask classifier fine-tuning & training\n"
      ]
    },
    {
      "cell_type": "code",
      "metadata": {
        "id": "_2H2sq6PZePS",
        "colab": {
          "base_uri": "https://localhost:8080/"
        },
        "outputId": "384bf417-4442-4d68-a619-34599cc6f60e"
      },
      "source": [
        "# load the MobileNetV2 network, ensuring the head FC layer sets are left off\n",
        "baseModel = MobileNetV2(weights=\"imagenet\", include_top=False,input_tensor=Input(shape=(224, 224, 3)))\n",
        "\n",
        "# construct the head of the model that will be placed on top of the the base model\n",
        "headModel = baseModel.output\n",
        "\n",
        "headModel = AveragePooling2D(pool_size=(7, 7))(headModel)\n",
        "headModel = Flatten(name=\"flatten\")(headModel)\n",
        "headModel = Dense(128, activation=\"relu\")(headModel)\n",
        "headModel = Dropout(0.5)(headModel)\n",
        "headModel = Dense(3, activation=\"softmax\")(headModel)\n",
        "\n",
        "# place the head FC model on top of the base model (this will become the actual model we will train)\n",
        "model = Model(inputs=baseModel.input, outputs=headModel)\n",
        "\n",
        "# loop over all layers in the base model and freeze them so they will *not* be updated during the first training process\n",
        "for layer in baseModel.layers:\n",
        "\tlayer.trainable = False"
      ],
      "execution_count": 6,
      "outputs": [
        {
          "output_type": "stream",
          "text": [
            "WARNING:tensorflow:`input_shape` is undefined or non-square, or `rows` is not in [96, 128, 160, 192, 224]. Weights for input shape (224, 224) will be loaded as the default.\n",
            "Downloading data from https://storage.googleapis.com/tensorflow/keras-applications/mobilenet_v2/mobilenet_v2_weights_tf_dim_ordering_tf_kernels_1.0_224_no_top.h5\n",
            "9412608/9406464 [==============================] - 0s 0us/step\n"
          ],
          "name": "stdout"
        }
      ]
    },
    {
      "cell_type": "code",
      "metadata": {
        "id": "u3YMqEPoZeRy",
        "colab": {
          "base_uri": "https://localhost:8080/"
        },
        "outputId": "b20283ef-3e48-4bea-91be-873aee3d14c5"
      },
      "source": [
        "# initialize the initial learning rate, number of epochs to train for, and batch size\n",
        "INIT_LR = 1e-4\n",
        "EPOCHS = 20\n",
        "BS = 32\n",
        "\n",
        "# compile our model\n",
        "print(\"[INFO] compiling model...\")\n",
        "opt = Adam(lr=INIT_LR, decay=INIT_LR / EPOCHS)\n",
        "# Change binary to categorical \n",
        "model.compile(loss=\"categorical_crossentropy\", optimizer=opt, metrics=[\"accuracy\"])\n",
        "\n",
        "# train the head of the network\n",
        "print(\"[INFO] training head...\")\n",
        "H = model.fit(\n",
        "\taug.flow(trainX, trainY, batch_size=BS),\n",
        "\tsteps_per_epoch=len(trainX) // BS,\n",
        "\tvalidation_data=(validX, validY),\n",
        "\tvalidation_steps=len(validX) // BS,\n",
        "\tepochs=EPOCHS)"
      ],
      "execution_count": 7,
      "outputs": [
        {
          "output_type": "stream",
          "text": [
            "[INFO] compiling model...\n",
            "[INFO] training head...\n",
            "Epoch 1/20\n",
            "84/84 [==============================] - ETA: 0s - loss: 0.6468 - accuracy: 0.7292WARNING:tensorflow:Callbacks method `on_test_batch_end` is slow compared to the batch time (batch time: 0.0128s vs `on_test_batch_end` time: 0.0373s). Check your callbacks.\n",
            "84/84 [==============================] - 30s 357ms/step - loss: 0.6468 - accuracy: 0.7292 - val_loss: 0.2175 - val_accuracy: 0.9435\n",
            "Epoch 2/20\n",
            "84/84 [==============================] - 29s 351ms/step - loss: 0.2381 - accuracy: 0.9126 - val_loss: 0.1550 - val_accuracy: 0.9583\n",
            "Epoch 3/20\n",
            "84/84 [==============================] - 29s 350ms/step - loss: 0.1695 - accuracy: 0.9442 - val_loss: 0.1317 - val_accuracy: 0.9717\n",
            "Epoch 4/20\n",
            "84/84 [==============================] - 30s 352ms/step - loss: 0.1394 - accuracy: 0.9483 - val_loss: 0.1175 - val_accuracy: 0.9777\n",
            "Epoch 5/20\n",
            "84/84 [==============================] - 29s 349ms/step - loss: 0.1335 - accuracy: 0.9561 - val_loss: 0.1121 - val_accuracy: 0.9792\n",
            "Epoch 6/20\n",
            "84/84 [==============================] - 29s 350ms/step - loss: 0.1135 - accuracy: 0.9617 - val_loss: 0.1026 - val_accuracy: 0.9792\n",
            "Epoch 7/20\n",
            "84/84 [==============================] - 29s 350ms/step - loss: 0.0992 - accuracy: 0.9684 - val_loss: 0.0988 - val_accuracy: 0.9807\n",
            "Epoch 8/20\n",
            "84/84 [==============================] - 30s 353ms/step - loss: 0.1014 - accuracy: 0.9647 - val_loss: 0.0940 - val_accuracy: 0.9807\n",
            "Epoch 9/20\n",
            "84/84 [==============================] - 30s 356ms/step - loss: 0.0919 - accuracy: 0.9702 - val_loss: 0.0940 - val_accuracy: 0.9836\n",
            "Epoch 10/20\n",
            "84/84 [==============================] - 30s 355ms/step - loss: 0.0890 - accuracy: 0.9680 - val_loss: 0.0872 - val_accuracy: 0.9821\n",
            "Epoch 11/20\n",
            "84/84 [==============================] - 30s 355ms/step - loss: 0.0789 - accuracy: 0.9781 - val_loss: 0.0868 - val_accuracy: 0.9851\n",
            "Epoch 12/20\n",
            "84/84 [==============================] - 30s 353ms/step - loss: 0.0812 - accuracy: 0.9751 - val_loss: 0.0831 - val_accuracy: 0.9836\n",
            "Epoch 13/20\n",
            "84/84 [==============================] - 29s 350ms/step - loss: 0.0688 - accuracy: 0.9766 - val_loss: 0.0842 - val_accuracy: 0.9851\n",
            "Epoch 14/20\n",
            "84/84 [==============================] - 29s 346ms/step - loss: 0.0692 - accuracy: 0.9799 - val_loss: 0.0805 - val_accuracy: 0.9836\n",
            "Epoch 15/20\n",
            "84/84 [==============================] - 29s 345ms/step - loss: 0.0598 - accuracy: 0.9825 - val_loss: 0.0794 - val_accuracy: 0.9821\n",
            "Epoch 16/20\n",
            "84/84 [==============================] - 28s 339ms/step - loss: 0.0602 - accuracy: 0.9784 - val_loss: 0.0884 - val_accuracy: 0.9807\n",
            "Epoch 17/20\n",
            "84/84 [==============================] - 28s 339ms/step - loss: 0.0652 - accuracy: 0.9784 - val_loss: 0.0785 - val_accuracy: 0.9851\n",
            "Epoch 18/20\n",
            "84/84 [==============================] - 28s 334ms/step - loss: 0.0576 - accuracy: 0.9818 - val_loss: 0.0778 - val_accuracy: 0.9851\n",
            "Epoch 19/20\n",
            "84/84 [==============================] - 28s 336ms/step - loss: 0.0562 - accuracy: 0.9833 - val_loss: 0.0773 - val_accuracy: 0.9851\n",
            "Epoch 20/20\n",
            "84/84 [==============================] - 28s 337ms/step - loss: 0.0630 - accuracy: 0.9803 - val_loss: 0.0756 - val_accuracy: 0.9851\n"
          ],
          "name": "stdout"
        }
      ]
    },
    {
      "cell_type": "markdown",
      "metadata": {
        "id": "Y0eVnqL6DGmz"
      },
      "source": [
        "## Mask classifier 성능 평가"
      ]
    },
    {
      "cell_type": "code",
      "metadata": {
        "id": "MAMZsStGdlNA",
        "colab": {
          "base_uri": "https://localhost:8080/",
          "height": 415
        },
        "outputId": "402644f7-141f-43ce-ee29-ed742c1f5e18"
      },
      "source": [
        "# make predictions on the testing set\n",
        "print(\"[INFO] evaluating network...\")\n",
        "predIdxs = model.predict(testX, batch_size=BS)\n",
        "\n",
        "# for each image in the testing set we need to find the index of the label with corresponding largest predicted probability\n",
        "predIdxs = np.argmax(predIdxs, axis=1)\n",
        "\n",
        "# show a nicely formatted classification report\n",
        "print(classification_report(testY.argmax(axis=1), predIdxs, target_names=lb.classes_))\n",
        "\n",
        "# serialize the model to disk\n",
        "print(\"[INFO] saving mask detector model...\")\n",
        "model.save(\"model\", save_format=\"h5\")"
      ],
      "execution_count": 8,
      "outputs": [
        {
          "output_type": "stream",
          "text": [
            "[INFO] evaluating network...\n",
            "              precision    recall  f1-score   support\n",
            "\n",
            "    cor_mask       0.99      0.98      0.99       280\n",
            "  incor_mask       0.98      0.99      0.99       280\n",
            "      nomask       0.99      1.00      0.99       280\n",
            "\n",
            "    accuracy                           0.99       840\n",
            "   macro avg       0.99      0.99      0.99       840\n",
            "weighted avg       0.99      0.99      0.99       840\n",
            "\n",
            "[INFO] saving mask detector model...\n"
          ],
          "name": "stdout"
        },
        {
          "output_type": "error",
          "ename": "NameError",
          "evalue": "ignored",
          "traceback": [
            "\u001b[0;31m---------------------------------------------------------------------------\u001b[0m",
            "\u001b[0;31mNameError\u001b[0m                                 Traceback (most recent call last)",
            "\u001b[0;32m<ipython-input-8-4d68ee0bcb55>\u001b[0m in \u001b[0;36m<module>\u001b[0;34m()\u001b[0m\n\u001b[1;32m     11\u001b[0m \u001b[0;31m# serialize the model to disk\u001b[0m\u001b[0;34m\u001b[0m\u001b[0;34m\u001b[0m\u001b[0;34m\u001b[0m\u001b[0m\n\u001b[1;32m     12\u001b[0m \u001b[0mprint\u001b[0m\u001b[0;34m(\u001b[0m\u001b[0;34m\"[INFO] saving mask detector model...\"\u001b[0m\u001b[0;34m)\u001b[0m\u001b[0;34m\u001b[0m\u001b[0;34m\u001b[0m\u001b[0m\n\u001b[0;32m---> 13\u001b[0;31m \u001b[0mmodel\u001b[0m\u001b[0;34m.\u001b[0m\u001b[0msave\u001b[0m\u001b[0;34m(\u001b[0m\u001b[0margs\u001b[0m\u001b[0;34m[\u001b[0m\u001b[0;34m\"model\"\u001b[0m\u001b[0;34m]\u001b[0m\u001b[0;34m,\u001b[0m \u001b[0msave_format\u001b[0m\u001b[0;34m=\u001b[0m\u001b[0;34m\"h5\"\u001b[0m\u001b[0;34m)\u001b[0m\u001b[0;34m\u001b[0m\u001b[0;34m\u001b[0m\u001b[0m\n\u001b[0m",
            "\u001b[0;31mNameError\u001b[0m: name 'args' is not defined"
          ]
        }
      ]
    },
    {
      "cell_type": "code",
      "metadata": {
        "id": "7TwNdyg6ue2N"
      },
      "source": [
        "model.save(\"model\", save_format=\"h5\")"
      ],
      "execution_count": 11,
      "outputs": []
    },
    {
      "cell_type": "code",
      "metadata": {
        "id": "SQKlF9YudlPp",
        "colab": {
          "base_uri": "https://localhost:8080/",
          "height": 299
        },
        "outputId": "9f42408d-1483-4fc7-dda8-dfb4082a550d"
      },
      "source": [
        "# plot the training loss and accuracy\n",
        "N = EPOCHS\n",
        "plt.style.use(\"ggplot\")\n",
        "plt.figure()\n",
        "plt.plot(np.arange(0, N), H.history[\"loss\"], label=\"train_loss\")\n",
        "plt.plot(np.arange(0, N), H.history[\"val_loss\"], label=\"val_loss\")\n",
        "plt.plot(np.arange(0, N), H.history[\"accuracy\"], label=\"train_acc\")\n",
        "plt.plot(np.arange(0, N), H.history[\"val_accuracy\"], label=\"val_acc\")\n",
        "plt.title(\"Training Loss and Accuracy\")\n",
        "plt.xlabel(\"Epoch #\")\n",
        "plt.ylabel(\"Loss/Accuracy\")\n",
        "plt.legend(loc=\"lower left\")\n",
        "plt.savefig(\"plot\")"
      ],
      "execution_count": 13,
      "outputs": [
        {
          "output_type": "display_data",
          "data": {
            "image/png": "[encoded data removed]",
            "text/plain": [
              "<Figure size 432x288 with 1 Axes>"
            ]
          },
          "metadata": {
            "tags": []
          }
        }
      ]
    },
    {
      "cell_type": "code",
      "metadata": {
        "id": "ldRKcWWvdlTq"
      },
      "source": [
        ""
      ],
      "execution_count": null,
      "outputs": []
    },
    {
      "cell_type": "code",
      "metadata": {
        "id": "RkomVa-LdlV8"
      },
      "source": [
        ""
      ],
      "execution_count": null,
      "outputs": []
    },
    {
      "cell_type": "code",
      "metadata": {
        "id": "aW3RY7XRdlbH"
      },
      "source": [
        ""
      ],
      "execution_count": null,
      "outputs": []
    }
  ]
}